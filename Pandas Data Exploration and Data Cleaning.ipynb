{
 "cells": [
  {
   "cell_type": "markdown",
   "id": "9cc38e73",
   "metadata": {},
   "source": [
    "# Creating The Artificial Dataset"
   ]
  },
  {
   "cell_type": "code",
   "execution_count": 40,
   "id": "f5985f37",
   "metadata": {},
   "outputs": [
    {
     "name": "stdout",
     "output_type": "stream",
     "text": [
      "         Name Age  Address Qualification Score        Date\n",
      "0      Mukesh  58  Aligarh           B.A    21  2020-07-29\n",
      "1      Sachin  46  Aligarh           Phd    74  2022-07-20\n",
      "2         Jai  40   Nagpur           Msc    37  2020-04-29\n",
      "3      Manish  36     None        B.Tech    45  2021-01-04\n",
      "4     Praveen  27     None        B.Tech    43  2020-06-20\n",
      "...       ...  ..      ...           ...   ...         ...\n",
      "2495     Ravi  56     None          None    57  2022-03-08\n",
      "2496     None  27  Jaunpur         B.com    28         NaN\n",
      "2497    Ankit  32   Kanpur          None    60         NaN\n",
      "2498      Jai  40   Nagpur           B.A    64  2020-07-21\n",
      "2499      Jai  47  Jaunpur           B.A    85  2021-06-25\n",
      "\n",
      "[2500 rows x 6 columns]\n"
     ]
    }
   ],
   "source": [
    "import random\n",
    "import pandas as pd\n",
    "import numpy as np\n",
    "import warnings \n",
    "warnings.filterwarnings('ignore')\n",
    "from datetime import datetime, timedelta\n",
    "\n",
    "# Add The Columns\n",
    "names = ['Jai', 'Anuj', 'Princi', 'Gaurav', 'Abhi', 'Ravi', 'Amit',\n",
    "         'Rahul', 'Kamal', 'Vikram', 'Sachin', 'Ankit', 'Mukesh', 'Saurabh', \n",
    "         'Rajesh', 'Suresh', 'Praveen', 'Vijay', 'Sandeep', 'Sunil', 'Deepak',\n",
    "         'Vinod', 'Manish', 'Tarun',None,None]\n",
    "addresses = ['Nagpur', 'Kanpur', 'Allahabad', 'Kannauj', 'Jaunpur', 'Aligarh',\n",
    "             'Lucknow', 'Bhopal',None,None]\n",
    "qualifications = ['Msc', 'MA', 'MCA', 'Phd', 'B.Tech', 'B.com', 'B.A',\n",
    "                  'Diploma',None,None]\n",
    "data1 = {'Name': [], 'Age': [], 'Address': [], 'Qualification': [], 'Score': []}\n",
    "\n",
    "for i in range(2000):\n",
    "    data1['Name'].append(random.choice(names))\n",
    "    data1['Age'].append(random.randint(22, 60))\n",
    "    data1['Address'].append(random.choice(addresses))\n",
    "    data1['Qualification'].append(random.choice(qualifications))\n",
    "    data1['Score'].append(random.randint(20, 100))\n",
    "\n",
    "    \n",
    "       \n",
    "df = pd.DataFrame(data1)\n",
    "   \n",
    "# Adding A Date column\n",
    "start_date = datetime(2020, 1, 1)\n",
    "end_date = datetime(2023, 2, 4)\n",
    "time_between_dates = end_date - start_date\n",
    "days_between_dates = time_between_dates.days\n",
    "df['Date'] = [start_date + timedelta(days=random.randint(0, days_between_dates)) for i in range(df.shape[0])]\n",
    "\n",
    "# Changing the Data Type\n",
    "df['Date'] = df['Date'].astype(str)\n",
    "df['Age'] = df['Age'].astype(str)\n",
    "df['Score'] = df['Score'].astype(str)\n",
    "\n",
    "# Add The Duplicated Data\n",
    "duplicated_rows = df.loc[random.sample(list(range(2000)), 500)].copy()\n",
    "df = df.append(duplicated_rows, ignore_index=True)\n",
    "rows = list(range(df.shape[0]))\n",
    "\n",
    "\n",
    "# Add The Null Data\n",
    "rows = random.sample(rows, int(df.shape[0] * 0.05))\n",
    "\n",
    "columns = random.sample(list(df.columns), int(df.shape[1] * 0.2))\n",
    "\n",
    "for column in columns:\n",
    "    df.loc[rows, column] = np.nan\n",
    "    \n",
    "    \n",
    "    \n",
    "# Shuffle The Data\n",
    "df = df.sample(frac=1, random_state=0).reset_index(drop=True)\n",
    "\n",
    "\n",
    "# Final Data\n",
    "print(df)"
   ]
  },
  {
   "cell_type": "markdown",
   "id": "e76e237c",
   "metadata": {},
   "source": [
    "We have generated this dataset containing duplicate and missing values for the purpose of demonstrating the significance of data cleaning and improving our understanding of the process."
   ]
  },
  {
   "cell_type": "markdown",
   "id": "93124b77",
   "metadata": {},
   "source": [
    "# Data Exploration and Data Cleaning\n",
    "\n",
    "Data Exploration is the process of analyzing and summarizing the characteristics and patterns of a dataset in order to gain a better understanding of the data and identify any potential issues that may need to be addressed before using the data for further analysis or modeling\n",
    "\n",
    "Data Cleaning is the process of correcting or removing errors, inconsistencies, and inaccuracies in a dataset in order to improve the quality and reliability of the data for analysis and modeling"
   ]
  },
  {
   "cell_type": "markdown",
   "id": "8a5d9430",
   "metadata": {},
   "source": [
    "### Checking Anomalies in Data Statistics and Types"
   ]
  },
  {
   "cell_type": "markdown",
   "id": "b905fc4d",
   "metadata": {},
   "source": [
    "The **describe method** can be useful for quickly getting an overview of the distribution of your data and detecting any outliers or anomalies. It can also help identify any missing or non-numeric values in your data."
   ]
  },
  {
   "cell_type": "code",
   "execution_count": 41,
   "id": "5a51873f",
   "metadata": {},
   "outputs": [
    {
     "data": {
      "text/html": [
       "<div>\n",
       "<style scoped>\n",
       "    .dataframe tbody tr th:only-of-type {\n",
       "        vertical-align: middle;\n",
       "    }\n",
       "\n",
       "    .dataframe tbody tr th {\n",
       "        vertical-align: top;\n",
       "    }\n",
       "\n",
       "    .dataframe thead th {\n",
       "        text-align: right;\n",
       "    }\n",
       "</style>\n",
       "<table border=\"1\" class=\"dataframe\">\n",
       "  <thead>\n",
       "    <tr style=\"text-align: right;\">\n",
       "      <th></th>\n",
       "      <th>Name</th>\n",
       "      <th>Age</th>\n",
       "      <th>Address</th>\n",
       "      <th>Qualification</th>\n",
       "      <th>Score</th>\n",
       "      <th>Date</th>\n",
       "    </tr>\n",
       "  </thead>\n",
       "  <tbody>\n",
       "    <tr>\n",
       "      <th>count</th>\n",
       "      <td>2290</td>\n",
       "      <td>2500</td>\n",
       "      <td>1949</td>\n",
       "      <td>2001</td>\n",
       "      <td>2500</td>\n",
       "      <td>2375</td>\n",
       "    </tr>\n",
       "    <tr>\n",
       "      <th>unique</th>\n",
       "      <td>24</td>\n",
       "      <td>39</td>\n",
       "      <td>8</td>\n",
       "      <td>8</td>\n",
       "      <td>81</td>\n",
       "      <td>907</td>\n",
       "    </tr>\n",
       "    <tr>\n",
       "      <th>top</th>\n",
       "      <td>Ankit</td>\n",
       "      <td>28</td>\n",
       "      <td>Jaunpur</td>\n",
       "      <td>B.com</td>\n",
       "      <td>87</td>\n",
       "      <td>2021-01-31</td>\n",
       "    </tr>\n",
       "    <tr>\n",
       "      <th>freq</th>\n",
       "      <td>118</td>\n",
       "      <td>84</td>\n",
       "      <td>259</td>\n",
       "      <td>274</td>\n",
       "      <td>50</td>\n",
       "      <td>10</td>\n",
       "    </tr>\n",
       "  </tbody>\n",
       "</table>\n",
       "</div>"
      ],
      "text/plain": [
       "         Name   Age  Address Qualification Score        Date\n",
       "count    2290  2500     1949          2001  2500        2375\n",
       "unique     24    39        8             8    81         907\n",
       "top     Ankit    28  Jaunpur         B.com    87  2021-01-31\n",
       "freq      118    84      259           274    50          10"
      ]
     },
     "execution_count": 41,
     "metadata": {},
     "output_type": "execute_result"
    }
   ],
   "source": [
    "df.describe(include='all')"
   ]
  },
  {
   "cell_type": "markdown",
   "id": "e7e60b1a",
   "metadata": {},
   "source": [
    "The info method in pandas is used to obtain a concise summary of a dataframe, including the number of non-missing values in each column, the data type of each column, and the memory usage of the dataframe."
   ]
  },
  {
   "cell_type": "code",
   "execution_count": 42,
   "id": "d530b63a",
   "metadata": {},
   "outputs": [
    {
     "name": "stdout",
     "output_type": "stream",
     "text": [
      "<class 'pandas.core.frame.DataFrame'>\n",
      "RangeIndex: 2500 entries, 0 to 2499\n",
      "Data columns (total 6 columns):\n",
      " #   Column         Non-Null Count  Dtype \n",
      "---  ------         --------------  ----- \n",
      " 0   Name           2290 non-null   object\n",
      " 1   Age            2500 non-null   object\n",
      " 2   Address        1949 non-null   object\n",
      " 3   Qualification  2001 non-null   object\n",
      " 4   Score          2500 non-null   object\n",
      " 5   Date           2375 non-null   object\n",
      "dtypes: object(6)\n",
      "memory usage: 117.3+ KB\n"
     ]
    }
   ],
   "source": [
    "df.info()"
   ]
  },
  {
   "cell_type": "markdown",
   "id": "a6fb5af6",
   "metadata": {},
   "source": [
    "It appears that integer and datetime data are stored as string data types. To ensure proper data analysis and manipulation, it is necessary to perform data type conversion and convert these values into their appropriate integer and datetime data types."
   ]
  },
  {
   "cell_type": "markdown",
   "id": "188e0d9e",
   "metadata": {},
   "source": [
    "### Data Type Conversion"
   ]
  },
  {
   "cell_type": "code",
   "execution_count": 43,
   "id": "2d1de203",
   "metadata": {},
   "outputs": [],
   "source": [
    "df['Score'] = df['Score'].astype(int)\n",
    "df['Age'] = df['Age'].astype(float)\n",
    "df['Date'] = pd.to_datetime(df['Date'])"
   ]
  },
  {
   "cell_type": "code",
   "execution_count": 44,
   "id": "5a66d6e5",
   "metadata": {},
   "outputs": [
    {
     "name": "stdout",
     "output_type": "stream",
     "text": [
      "<class 'pandas.core.frame.DataFrame'>\n",
      "RangeIndex: 2500 entries, 0 to 2499\n",
      "Data columns (total 6 columns):\n",
      " #   Column         Non-Null Count  Dtype         \n",
      "---  ------         --------------  -----         \n",
      " 0   Name           2290 non-null   object        \n",
      " 1   Age            2500 non-null   float64       \n",
      " 2   Address        1949 non-null   object        \n",
      " 3   Qualification  2001 non-null   object        \n",
      " 4   Score          2500 non-null   int32         \n",
      " 5   Date           2375 non-null   datetime64[ns]\n",
      "dtypes: datetime64[ns](1), float64(1), int32(1), object(3)\n",
      "memory usage: 107.5+ KB\n"
     ]
    }
   ],
   "source": [
    "df.info()"
   ]
  },
  {
   "cell_type": "markdown",
   "id": "903080f9",
   "metadata": {},
   "source": [
    "### Checking For Duplicated Rows"
   ]
  },
  {
   "cell_type": "markdown",
   "id": "89e4d284",
   "metadata": {},
   "source": [
    "The duplicated method in pandas is used to check for duplicate rows in a dataframe. The method returns a boolean series with True values for the rows that are duplicates and False values for the unique rows.\n",
    "\n",
    "The value_counts method can then be applied to the resulting series to get a count of the unique values, i.e., the number of duplicate and unique rows in the dataframe."
   ]
  },
  {
   "cell_type": "code",
   "execution_count": 45,
   "id": "f0011daf",
   "metadata": {},
   "outputs": [
    {
     "data": {
      "text/plain": [
       "False    2050\n",
       "True      450\n",
       "dtype: int64"
      ]
     },
     "execution_count": 45,
     "metadata": {},
     "output_type": "execute_result"
    }
   ],
   "source": [
    "df.duplicated().value_counts()"
   ]
  },
  {
   "cell_type": "markdown",
   "id": "c1d6b042",
   "metadata": {},
   "source": [
    "Keep or drop duplicates depends on the purpose, sometimes keep for accuracy and sometimes drop to avoid mistakes, based on the goal of the analysis.\n",
    "In this Case We are dropping the Duplicated Columns"
   ]
  },
  {
   "cell_type": "code",
   "execution_count": 46,
   "id": "d08f0cae",
   "metadata": {},
   "outputs": [
    {
     "data": {
      "text/plain": [
       "False    2050\n",
       "dtype: int64"
      ]
     },
     "execution_count": 46,
     "metadata": {},
     "output_type": "execute_result"
    }
   ],
   "source": [
    "df.drop_duplicates(inplace=True)\n",
    "df.duplicated().value_counts()"
   ]
  },
  {
   "cell_type": "markdown",
   "id": "0e716ba0",
   "metadata": {},
   "source": [
    "### Checking for Null Values"
   ]
  },
  {
   "cell_type": "markdown",
   "id": "d7ceddde",
   "metadata": {},
   "source": [
    "The **isnull** method in pandas is used to check for missing values in a dataframe. The method returns a dataframe of the same shape as the original dataframe, with True values in the cells where the corresponding value in the original dataframe is missing (i.e., NaN or None), and False values in the cells where the corresponding value is not missing.\n",
    "\n",
    "The **sum** method can then be applied to the resulting dataframe to calculate the number of missing values in each column."
   ]
  },
  {
   "cell_type": "markdown",
   "id": "fc78fe09",
   "metadata": {},
   "source": [
    "Adding Null Values In the Data For Null Data Cleaning"
   ]
  },
  {
   "cell_type": "code",
   "execution_count": 47,
   "id": "62cc1864",
   "metadata": {},
   "outputs": [],
   "source": [
    "rows = np.random.choice(df.index, size=250, replace=False)\n",
    "df.loc[rows, 'Age'] = np.nan\n",
    "df.loc[rows, 'Score'] = np.nan"
   ]
  },
  {
   "cell_type": "code",
   "execution_count": 48,
   "id": "abde3fa4",
   "metadata": {},
   "outputs": [
    {
     "data": {
      "text/plain": [
       "Name             173\n",
       "Age              250\n",
       "Address          454\n",
       "Qualification    401\n",
       "Score            250\n",
       "Date             124\n",
       "dtype: int64"
      ]
     },
     "execution_count": 48,
     "metadata": {},
     "output_type": "execute_result"
    }
   ],
   "source": [
    "df.isnull().sum()"
   ]
  },
  {
   "cell_type": "markdown",
   "id": "99491abb",
   "metadata": {},
   "source": [
    "### Handling missing values"
   ]
  },
  {
   "cell_type": "markdown",
   "id": "4b77c4ee",
   "metadata": {},
   "source": [
    "1.For The Categorical Data"
   ]
  },
  {
   "cell_type": "code",
   "execution_count": 49,
   "id": "4021ad1f",
   "metadata": {},
   "outputs": [
    {
     "data": {
      "text/plain": [
       "Name               0\n",
       "Age              250\n",
       "Address            0\n",
       "Qualification      0\n",
       "Score            250\n",
       "Date             124\n",
       "dtype: int64"
      ]
     },
     "execution_count": 49,
     "metadata": {},
     "output_type": "execute_result"
    }
   ],
   "source": [
    "df['Name'].fillna('Unknown',inplace=True)\n",
    "df['Address'].fillna('Unknown',inplace=True)\n",
    "df['Qualification'].fillna('Unknown',inplace=True)\n",
    "df.isnull().sum()"
   ]
  },
  {
   "cell_type": "markdown",
   "id": "0c33842d",
   "metadata": {},
   "source": [
    "2.For The Numerical Data"
   ]
  },
  {
   "cell_type": "markdown",
   "id": "274f3257",
   "metadata": {},
   "source": [
    "(a) Age"
   ]
  },
  {
   "cell_type": "code",
   "execution_count": 50,
   "id": "2319550a",
   "metadata": {},
   "outputs": [
    {
     "data": {
      "text/plain": [
       "Unknown    42\n",
       "B.com      30\n",
       "Msc        29\n",
       "MCA        28\n",
       "MA         28\n",
       "B.A        26\n",
       "Phd        24\n",
       "B.Tech     22\n",
       "Diploma    21\n",
       "Name: Qualification, dtype: int64"
      ]
     },
     "execution_count": 50,
     "metadata": {},
     "output_type": "execute_result"
    }
   ],
   "source": [
    "df.loc[df['Age'].isnull() ==True,'Qualification'].value_counts()"
   ]
  },
  {
   "cell_type": "code",
   "execution_count": 51,
   "id": "c43d281e",
   "metadata": {},
   "outputs": [
    {
     "data": {
      "text/plain": [
       "Suresh     17\n",
       "Ankit      16\n",
       "Unknown    16\n",
       "Vijay      16\n",
       "Princi     13\n",
       "Amit       13\n",
       "Kamal      12\n",
       "Rahul      12\n",
       "Manish     12\n",
       "Jai        11\n",
       "Saurabh    11\n",
       "Sandeep    10\n",
       "Praveen    10\n",
       "Vinod       9\n",
       "Deepak      8\n",
       "Anuj        8\n",
       "Gaurav      8\n",
       "Rajesh      7\n",
       "Vikram      7\n",
       "Abhi        7\n",
       "Tarun       6\n",
       "Sachin      6\n",
       "Sunil       5\n",
       "Ravi        5\n",
       "Mukesh      5\n",
       "Name: Name, dtype: int64"
      ]
     },
     "execution_count": 51,
     "metadata": {},
     "output_type": "execute_result"
    }
   ],
   "source": [
    "df.loc[df['Age'].isnull() ==True,'Name'].value_counts()"
   ]
  },
  {
   "cell_type": "code",
   "execution_count": 52,
   "id": "6ce5bb84",
   "metadata": {},
   "outputs": [
    {
     "data": {
      "text/plain": [
       "Unknown      48\n",
       "Kannauj      36\n",
       "Allahabad    30\n",
       "Nagpur       27\n",
       "Aligarh      27\n",
       "Kanpur       25\n",
       "Lucknow      22\n",
       "Bhopal       18\n",
       "Jaunpur      17\n",
       "Name: Address, dtype: int64"
      ]
     },
     "execution_count": 52,
     "metadata": {},
     "output_type": "execute_result"
    }
   ],
   "source": [
    "df.loc[df['Age'].isnull() ==True,'Address'].value_counts()"
   ]
  },
  {
   "cell_type": "markdown",
   "id": "f793eea5",
   "metadata": {},
   "source": [
    "Creating Separate Date Column to Check for Variation in Null Values"
   ]
  },
  {
   "cell_type": "code",
   "execution_count": 53,
   "id": "8a1ce4d6",
   "metadata": {},
   "outputs": [],
   "source": [
    "df['start_year'] = df.Date.dt.year\n",
    "df['start_month'] = df.Date.dt.month_name()\n",
    "df['start_date'] = df.Date.dt.day\n",
    "df['week_day']  = df.Date.dt.day_name()"
   ]
  },
  {
   "cell_type": "code",
   "execution_count": 54,
   "id": "b22c765d",
   "metadata": {},
   "outputs": [
    {
     "data": {
      "text/plain": [
       "2020.0    84\n",
       "2021.0    74\n",
       "2022.0    65\n",
       "2023.0    11\n",
       "Name: start_year, dtype: int64"
      ]
     },
     "execution_count": 54,
     "metadata": {},
     "output_type": "execute_result"
    }
   ],
   "source": [
    "df.loc[df['Age'].isnull() ==True,'start_year'].value_counts()"
   ]
  },
  {
   "cell_type": "code",
   "execution_count": 55,
   "id": "a09d4257",
   "metadata": {},
   "outputs": [
    {
     "data": {
      "text/plain": [
       "January      38\n",
       "August       26\n",
       "March        23\n",
       "May          19\n",
       "June         18\n",
       "October      18\n",
       "April        17\n",
       "July         17\n",
       "December     16\n",
       "September    16\n",
       "February     14\n",
       "November     12\n",
       "Name: start_month, dtype: int64"
      ]
     },
     "execution_count": 55,
     "metadata": {},
     "output_type": "execute_result"
    }
   ],
   "source": [
    "df.loc[df['Age'].isnull() ==True,'start_month'].value_counts()"
   ]
  },
  {
   "cell_type": "code",
   "execution_count": 56,
   "id": "e9788993",
   "metadata": {},
   "outputs": [
    {
     "data": {
      "text/plain": [
       "5.0     15\n",
       "10.0    14\n",
       "4.0     12\n",
       "22.0    12\n",
       "2.0     11\n",
       "21.0    11\n",
       "9.0     11\n",
       "13.0    11\n",
       "29.0     9\n",
       "14.0     8\n",
       "20.0     8\n",
       "1.0      7\n",
       "12.0     7\n",
       "23.0     7\n",
       "7.0      7\n",
       "25.0     7\n",
       "3.0      7\n",
       "18.0     7\n",
       "28.0     7\n",
       "11.0     6\n",
       "16.0     6\n",
       "6.0      5\n",
       "15.0     5\n",
       "26.0     5\n",
       "30.0     5\n",
       "27.0     4\n",
       "19.0     4\n",
       "8.0      4\n",
       "31.0     4\n",
       "17.0     4\n",
       "24.0     4\n",
       "Name: start_date, dtype: int64"
      ]
     },
     "execution_count": 56,
     "metadata": {},
     "output_type": "execute_result"
    }
   ],
   "source": [
    "df.loc[df['Age'].isnull() ==True,'start_date'].value_counts()"
   ]
  },
  {
   "cell_type": "code",
   "execution_count": 57,
   "id": "9ec16545",
   "metadata": {},
   "outputs": [
    {
     "data": {
      "text/plain": [
       "Monday       41\n",
       "Friday       37\n",
       "Tuesday      36\n",
       "Wednesday    35\n",
       "Saturday     32\n",
       "Sunday       29\n",
       "Thursday     24\n",
       "Name: week_day, dtype: int64"
      ]
     },
     "execution_count": 57,
     "metadata": {},
     "output_type": "execute_result"
    }
   ],
   "source": [
    "df.loc[df['Age'].isnull() ==True,'week_day'].value_counts()"
   ]
  },
  {
   "cell_type": "markdown",
   "id": "6d02e5fc",
   "metadata": {},
   "source": [
    "Since the missing values don't seem to be connected to any of the other columns, we can fill them by by taking the mean of the two closest non-null values in the same column."
   ]
  },
  {
   "cell_type": "code",
   "execution_count": 58,
   "id": "2fc7536e",
   "metadata": {},
   "outputs": [],
   "source": [
    "import math\n",
    "def fill_na_mean_closest_two(col):\n",
    "    \"\"\"\n",
    "    Fills missing values in the column by taking the mean of the two closest non-null values.\n",
    "    \"\"\"\n",
    "    not_null = col.notnull()\n",
    "    idx = col.index[not_null]\n",
    "    val = col.loc[not_null].values\n",
    "    \n",
    "    filled = col.copy()\n",
    "    for i, row in col[~not_null].iteritems():\n",
    "        j = np.searchsorted(idx, i, side='left')\n",
    "        if j > 0 and (j == len(idx) or math.fabs(i - idx[j-1]) < math.fabs(i - idx[j])):\n",
    "            j -= 1\n",
    "        filled.loc[i] = (val[j-1] + val[j]) / 2\n",
    "    return filled"
   ]
  },
  {
   "cell_type": "code",
   "execution_count": 59,
   "id": "35960fb5",
   "metadata": {},
   "outputs": [],
   "source": [
    "df['Age'] = fill_na_mean_closest_two(df['Age'])"
   ]
  },
  {
   "cell_type": "code",
   "execution_count": 60,
   "id": "e675999c",
   "metadata": {},
   "outputs": [
    {
     "data": {
      "text/plain": [
       "Name               0\n",
       "Age                0\n",
       "Address            0\n",
       "Qualification      0\n",
       "Score            250\n",
       "Date             124\n",
       "start_year       124\n",
       "start_month      124\n",
       "start_date       124\n",
       "week_day         124\n",
       "dtype: int64"
      ]
     },
     "execution_count": 60,
     "metadata": {},
     "output_type": "execute_result"
    }
   ],
   "source": [
    "df.isnull().sum()"
   ]
  },
  {
   "cell_type": "code",
   "execution_count": 61,
   "id": "b9e36852",
   "metadata": {},
   "outputs": [
    {
     "data": {
      "text/plain": [
       "Name               0\n",
       "Age                0\n",
       "Address            0\n",
       "Qualification      0\n",
       "Score            250\n",
       "Date             124\n",
       "start_year       124\n",
       "start_month      124\n",
       "start_date       124\n",
       "week_day         124\n",
       "dtype: int64"
      ]
     },
     "execution_count": 61,
     "metadata": {},
     "output_type": "execute_result"
    }
   ],
   "source": [
    "df.isnull().sum()"
   ]
  },
  {
   "cell_type": "markdown",
   "id": "c1763ec0",
   "metadata": {},
   "source": [
    "(b) Score\n",
    "\n",
    "Lets Repeat the Same method for the Score Column"
   ]
  },
  {
   "cell_type": "code",
   "execution_count": 62,
   "id": "26a22953",
   "metadata": {},
   "outputs": [
    {
     "data": {
      "text/plain": [
       "Unknown    42\n",
       "B.com      30\n",
       "Msc        29\n",
       "MCA        28\n",
       "MA         28\n",
       "B.A        26\n",
       "Phd        24\n",
       "B.Tech     22\n",
       "Diploma    21\n",
       "Name: Qualification, dtype: int64"
      ]
     },
     "execution_count": 62,
     "metadata": {},
     "output_type": "execute_result"
    }
   ],
   "source": [
    "df.loc[df['Score'].isnull() ==True,'Qualification'].value_counts()"
   ]
  },
  {
   "cell_type": "code",
   "execution_count": 63,
   "id": "c60a2599",
   "metadata": {},
   "outputs": [
    {
     "data": {
      "text/plain": [
       "Suresh     17\n",
       "Ankit      16\n",
       "Unknown    16\n",
       "Vijay      16\n",
       "Princi     13\n",
       "Amit       13\n",
       "Kamal      12\n",
       "Rahul      12\n",
       "Manish     12\n",
       "Jai        11\n",
       "Saurabh    11\n",
       "Sandeep    10\n",
       "Praveen    10\n",
       "Vinod       9\n",
       "Deepak      8\n",
       "Anuj        8\n",
       "Gaurav      8\n",
       "Rajesh      7\n",
       "Vikram      7\n",
       "Abhi        7\n",
       "Tarun       6\n",
       "Sachin      6\n",
       "Sunil       5\n",
       "Ravi        5\n",
       "Mukesh      5\n",
       "Name: Name, dtype: int64"
      ]
     },
     "execution_count": 63,
     "metadata": {},
     "output_type": "execute_result"
    }
   ],
   "source": [
    "df.loc[df['Score'].isnull() ==True,'Name'].value_counts()"
   ]
  },
  {
   "cell_type": "code",
   "execution_count": 64,
   "id": "caca17c3",
   "metadata": {},
   "outputs": [
    {
     "data": {
      "text/plain": [
       "Unknown      48\n",
       "Kannauj      36\n",
       "Allahabad    30\n",
       "Nagpur       27\n",
       "Aligarh      27\n",
       "Kanpur       25\n",
       "Lucknow      22\n",
       "Bhopal       18\n",
       "Jaunpur      17\n",
       "Name: Address, dtype: int64"
      ]
     },
     "execution_count": 64,
     "metadata": {},
     "output_type": "execute_result"
    }
   ],
   "source": [
    "df.loc[df['Score'].isnull() ==True,'Address'].value_counts()"
   ]
  },
  {
   "cell_type": "code",
   "execution_count": 65,
   "id": "cf4e1e13",
   "metadata": {},
   "outputs": [
    {
     "data": {
      "text/plain": [
       "2020.0    84\n",
       "2021.0    74\n",
       "2022.0    65\n",
       "2023.0    11\n",
       "Name: start_year, dtype: int64"
      ]
     },
     "execution_count": 65,
     "metadata": {},
     "output_type": "execute_result"
    }
   ],
   "source": [
    "df.loc[df['Score'].isnull() ==True,'start_year'].value_counts()"
   ]
  },
  {
   "cell_type": "code",
   "execution_count": 66,
   "id": "83450cc1",
   "metadata": {},
   "outputs": [
    {
     "data": {
      "text/plain": [
       "January      38\n",
       "August       26\n",
       "March        23\n",
       "May          19\n",
       "June         18\n",
       "October      18\n",
       "April        17\n",
       "July         17\n",
       "December     16\n",
       "September    16\n",
       "February     14\n",
       "November     12\n",
       "Name: start_month, dtype: int64"
      ]
     },
     "execution_count": 66,
     "metadata": {},
     "output_type": "execute_result"
    }
   ],
   "source": [
    "df.loc[df['Score'].isnull() ==True,'start_month'].value_counts()"
   ]
  },
  {
   "cell_type": "code",
   "execution_count": 67,
   "id": "154a62f7",
   "metadata": {},
   "outputs": [
    {
     "data": {
      "text/plain": [
       "5.0     15\n",
       "10.0    14\n",
       "4.0     12\n",
       "22.0    12\n",
       "2.0     11\n",
       "21.0    11\n",
       "9.0     11\n",
       "13.0    11\n",
       "29.0     9\n",
       "14.0     8\n",
       "20.0     8\n",
       "1.0      7\n",
       "12.0     7\n",
       "23.0     7\n",
       "7.0      7\n",
       "25.0     7\n",
       "3.0      7\n",
       "18.0     7\n",
       "28.0     7\n",
       "11.0     6\n",
       "16.0     6\n",
       "6.0      5\n",
       "15.0     5\n",
       "26.0     5\n",
       "30.0     5\n",
       "27.0     4\n",
       "19.0     4\n",
       "8.0      4\n",
       "31.0     4\n",
       "17.0     4\n",
       "24.0     4\n",
       "Name: start_date, dtype: int64"
      ]
     },
     "execution_count": 67,
     "metadata": {},
     "output_type": "execute_result"
    }
   ],
   "source": [
    "df.loc[df['Score'].isnull() ==True,'start_date'].value_counts()"
   ]
  },
  {
   "cell_type": "code",
   "execution_count": 68,
   "id": "9d14382b",
   "metadata": {},
   "outputs": [
    {
     "data": {
      "text/plain": [
       "Monday       41\n",
       "Friday       37\n",
       "Tuesday      36\n",
       "Wednesday    35\n",
       "Saturday     32\n",
       "Sunday       29\n",
       "Thursday     24\n",
       "Name: week_day, dtype: int64"
      ]
     },
     "execution_count": 68,
     "metadata": {},
     "output_type": "execute_result"
    }
   ],
   "source": [
    "df.loc[df['Score'].isnull() ==True,'week_day'].value_counts()"
   ]
  },
  {
   "cell_type": "code",
   "execution_count": 69,
   "id": "d255207a",
   "metadata": {},
   "outputs": [],
   "source": [
    "df['Score'] = fill_na_mean_closest_two(df['Score'])"
   ]
  },
  {
   "cell_type": "code",
   "execution_count": 70,
   "id": "321029f6",
   "metadata": {},
   "outputs": [
    {
     "data": {
      "text/plain": [
       "Name               0\n",
       "Age                0\n",
       "Address            0\n",
       "Qualification      0\n",
       "Score              0\n",
       "Date             124\n",
       "start_year       124\n",
       "start_month      124\n",
       "start_date       124\n",
       "week_day         124\n",
       "dtype: int64"
      ]
     },
     "execution_count": 70,
     "metadata": {},
     "output_type": "execute_result"
    }
   ],
   "source": [
    "df.isnull().sum()"
   ]
  },
  {
   "cell_type": "markdown",
   "id": "24feb424",
   "metadata": {},
   "source": [
    "### Forward-filling The Dates"
   ]
  },
  {
   "cell_type": "code",
   "execution_count": null,
   "id": "e6f6b35a",
   "metadata": {},
   "outputs": [],
   "source": [
    "df['Date'].interpolate(method='ffill', inplace=True)\n",
    "df['start_year'].interpolate(method='ffill', inplace=True)\n",
    "df['start_month'].interpolate(method='ffill', inplace=True)\n",
    "df['start_date'].interpolate(method='ffill', inplace=True)\n",
    "df['week_day'].interpolate(method='ffill', inplace=True)\n",
    "df.info()"
   ]
  },
  {
   "cell_type": "markdown",
   "id": "f1104717",
   "metadata": {},
   "source": [
    "### Outlier detection"
   ]
  },
  {
   "cell_type": "markdown",
   "id": "948659a6",
   "metadata": {},
   "source": [
    "This Method performs outlier detection on a specific column in a pandas dataframe. The method used to detect outliers is based on the Z-score, which is a standardized measure of how many standard deviations a value is from the mean.\n",
    "\n",
    "\n",
    "Outlier detection is an important step in data cleaning and preparation. Outliers can significantly affect the results of statistical analysis, so it's important to identify and handle them appropriately."
   ]
  },
  {
   "cell_type": "code",
   "execution_count": 71,
   "id": "fe194a52",
   "metadata": {},
   "outputs": [
    {
     "name": "stdout",
     "output_type": "stream",
     "text": [
      "Empty DataFrame\n",
      "Columns: [Name, Age, Address, Qualification, Score, Date, start_year, start_month, start_date, week_day]\n",
      "Index: []\n"
     ]
    }
   ],
   "source": [
    "mean = df['Score'].mean()\n",
    "std = df['Score'].std()\n",
    "\n",
    "z_scores = (df['Score'] - mean) / std\n",
    "outliers = df[np.abs(z_scores) > 3]\n",
    "\n",
    "print(outliers)"
   ]
  },
  {
   "cell_type": "code",
   "execution_count": 72,
   "id": "156287fc",
   "metadata": {},
   "outputs": [
    {
     "name": "stdout",
     "output_type": "stream",
     "text": [
      "Empty DataFrame\n",
      "Columns: [Name, Age, Address, Qualification, Score, Date, start_year, start_month, start_date, week_day]\n",
      "Index: []\n"
     ]
    }
   ],
   "source": [
    "mean = df['Age'].mean()\n",
    "std = df['Age'].std()\n",
    "\n",
    "z_scores = (df['Age'] - mean) / std\n",
    "outliers = df[np.abs(z_scores) > 3]\n",
    "\n",
    "print(outliers)"
   ]
  },
  {
   "cell_type": "markdown",
   "id": "9f63a8ac",
   "metadata": {},
   "source": [
    "# Summary\n",
    "\n",
    "After thoroughly reviewing the data, we discovered that there were duplicates, missing values, and incorrect data types present and finally It Had Some Empty Date Columns. In order to enhance the quality and reliability of the data, we conducted both Data Exploration and Data Cleaning. The outcome of these processes has resulted in a cleaned dataset, which can now be used for further analysis or modeling. Here is the cleaned data ready for the next steps."
   ]
  },
  {
   "cell_type": "code",
   "execution_count": 79,
   "id": "17474988",
   "metadata": {},
   "outputs": [
    {
     "data": {
      "text/html": [
       "<div>\n",
       "<style scoped>\n",
       "    .dataframe tbody tr th:only-of-type {\n",
       "        vertical-align: middle;\n",
       "    }\n",
       "\n",
       "    .dataframe tbody tr th {\n",
       "        vertical-align: top;\n",
       "    }\n",
       "\n",
       "    .dataframe thead th {\n",
       "        text-align: right;\n",
       "    }\n",
       "</style>\n",
       "<table border=\"1\" class=\"dataframe\">\n",
       "  <thead>\n",
       "    <tr style=\"text-align: right;\">\n",
       "      <th></th>\n",
       "      <th>Name</th>\n",
       "      <th>Age</th>\n",
       "      <th>Address</th>\n",
       "      <th>Qualification</th>\n",
       "      <th>Score</th>\n",
       "      <th>Date</th>\n",
       "      <th>start_year</th>\n",
       "      <th>start_month</th>\n",
       "      <th>start_date</th>\n",
       "      <th>week_day</th>\n",
       "    </tr>\n",
       "  </thead>\n",
       "  <tbody>\n",
       "    <tr>\n",
       "      <th>0</th>\n",
       "      <td>Mukesh</td>\n",
       "      <td>58.0</td>\n",
       "      <td>Aligarh</td>\n",
       "      <td>B.A</td>\n",
       "      <td>21.0</td>\n",
       "      <td>2020-07-29</td>\n",
       "      <td>2020.0</td>\n",
       "      <td>July</td>\n",
       "      <td>29.0</td>\n",
       "      <td>Wednesday</td>\n",
       "    </tr>\n",
       "    <tr>\n",
       "      <th>1</th>\n",
       "      <td>Sachin</td>\n",
       "      <td>46.0</td>\n",
       "      <td>Aligarh</td>\n",
       "      <td>Phd</td>\n",
       "      <td>74.0</td>\n",
       "      <td>2022-07-20</td>\n",
       "      <td>2022.0</td>\n",
       "      <td>July</td>\n",
       "      <td>20.0</td>\n",
       "      <td>Wednesday</td>\n",
       "    </tr>\n",
       "    <tr>\n",
       "      <th>2</th>\n",
       "      <td>Jai</td>\n",
       "      <td>52.0</td>\n",
       "      <td>Nagpur</td>\n",
       "      <td>Msc</td>\n",
       "      <td>47.5</td>\n",
       "      <td>2020-04-29</td>\n",
       "      <td>2020.0</td>\n",
       "      <td>April</td>\n",
       "      <td>29.0</td>\n",
       "      <td>Wednesday</td>\n",
       "    </tr>\n",
       "    <tr>\n",
       "      <th>3</th>\n",
       "      <td>Manish</td>\n",
       "      <td>36.5</td>\n",
       "      <td>Unknown</td>\n",
       "      <td>B.Tech</td>\n",
       "      <td>58.5</td>\n",
       "      <td>2021-01-04</td>\n",
       "      <td>2021.0</td>\n",
       "      <td>January</td>\n",
       "      <td>4.0</td>\n",
       "      <td>Monday</td>\n",
       "    </tr>\n",
       "    <tr>\n",
       "      <th>4</th>\n",
       "      <td>Praveen</td>\n",
       "      <td>27.0</td>\n",
       "      <td>Unknown</td>\n",
       "      <td>B.Tech</td>\n",
       "      <td>43.0</td>\n",
       "      <td>2020-06-20</td>\n",
       "      <td>2020.0</td>\n",
       "      <td>June</td>\n",
       "      <td>20.0</td>\n",
       "      <td>Saturday</td>\n",
       "    </tr>\n",
       "  </tbody>\n",
       "</table>\n",
       "</div>"
      ],
      "text/plain": [
       "      Name   Age  Address Qualification  Score       Date  start_year  \\\n",
       "0   Mukesh  58.0  Aligarh           B.A   21.0 2020-07-29      2020.0   \n",
       "1   Sachin  46.0  Aligarh           Phd   74.0 2022-07-20      2022.0   \n",
       "2      Jai  52.0   Nagpur           Msc   47.5 2020-04-29      2020.0   \n",
       "3   Manish  36.5  Unknown        B.Tech   58.5 2021-01-04      2021.0   \n",
       "4  Praveen  27.0  Unknown        B.Tech   43.0 2020-06-20      2020.0   \n",
       "\n",
       "  start_month  start_date   week_day  \n",
       "0        July        29.0  Wednesday  \n",
       "1        July        20.0  Wednesday  \n",
       "2       April        29.0  Wednesday  \n",
       "3     January         4.0     Monday  \n",
       "4        June        20.0   Saturday  "
      ]
     },
     "execution_count": 79,
     "metadata": {},
     "output_type": "execute_result"
    }
   ],
   "source": [
    "df.head()"
   ]
  },
  {
   "cell_type": "code",
   "execution_count": 80,
   "id": "f2303550",
   "metadata": {},
   "outputs": [
    {
     "data": {
      "text/html": [
       "<div>\n",
       "<style scoped>\n",
       "    .dataframe tbody tr th:only-of-type {\n",
       "        vertical-align: middle;\n",
       "    }\n",
       "\n",
       "    .dataframe tbody tr th {\n",
       "        vertical-align: top;\n",
       "    }\n",
       "\n",
       "    .dataframe thead th {\n",
       "        text-align: right;\n",
       "    }\n",
       "</style>\n",
       "<table border=\"1\" class=\"dataframe\">\n",
       "  <thead>\n",
       "    <tr style=\"text-align: right;\">\n",
       "      <th></th>\n",
       "      <th>Age</th>\n",
       "      <th>Score</th>\n",
       "      <th>start_year</th>\n",
       "      <th>start_date</th>\n",
       "    </tr>\n",
       "  </thead>\n",
       "  <tbody>\n",
       "    <tr>\n",
       "      <th>count</th>\n",
       "      <td>2050.000000</td>\n",
       "      <td>2050.000000</td>\n",
       "      <td>2050.000000</td>\n",
       "      <td>2050.000000</td>\n",
       "    </tr>\n",
       "    <tr>\n",
       "      <th>mean</th>\n",
       "      <td>41.377073</td>\n",
       "      <td>60.227805</td>\n",
       "      <td>2021.047805</td>\n",
       "      <td>15.654146</td>\n",
       "    </tr>\n",
       "    <tr>\n",
       "      <th>std</th>\n",
       "      <td>11.047582</td>\n",
       "      <td>22.415593</td>\n",
       "      <td>0.877381</td>\n",
       "      <td>8.877612</td>\n",
       "    </tr>\n",
       "    <tr>\n",
       "      <th>min</th>\n",
       "      <td>22.000000</td>\n",
       "      <td>20.000000</td>\n",
       "      <td>2020.000000</td>\n",
       "      <td>1.000000</td>\n",
       "    </tr>\n",
       "    <tr>\n",
       "      <th>25%</th>\n",
       "      <td>32.000000</td>\n",
       "      <td>41.125000</td>\n",
       "      <td>2020.000000</td>\n",
       "      <td>8.000000</td>\n",
       "    </tr>\n",
       "    <tr>\n",
       "      <th>50%</th>\n",
       "      <td>41.500000</td>\n",
       "      <td>61.000000</td>\n",
       "      <td>2021.000000</td>\n",
       "      <td>15.000000</td>\n",
       "    </tr>\n",
       "    <tr>\n",
       "      <th>75%</th>\n",
       "      <td>51.000000</td>\n",
       "      <td>79.000000</td>\n",
       "      <td>2022.000000</td>\n",
       "      <td>23.000000</td>\n",
       "    </tr>\n",
       "    <tr>\n",
       "      <th>max</th>\n",
       "      <td>60.000000</td>\n",
       "      <td>100.000000</td>\n",
       "      <td>2023.000000</td>\n",
       "      <td>31.000000</td>\n",
       "    </tr>\n",
       "  </tbody>\n",
       "</table>\n",
       "</div>"
      ],
      "text/plain": [
       "               Age        Score   start_year   start_date\n",
       "count  2050.000000  2050.000000  2050.000000  2050.000000\n",
       "mean     41.377073    60.227805  2021.047805    15.654146\n",
       "std      11.047582    22.415593     0.877381     8.877612\n",
       "min      22.000000    20.000000  2020.000000     1.000000\n",
       "25%      32.000000    41.125000  2020.000000     8.000000\n",
       "50%      41.500000    61.000000  2021.000000    15.000000\n",
       "75%      51.000000    79.000000  2022.000000    23.000000\n",
       "max      60.000000   100.000000  2023.000000    31.000000"
      ]
     },
     "execution_count": 80,
     "metadata": {},
     "output_type": "execute_result"
    }
   ],
   "source": [
    "df.describe()"
   ]
  }
 ],
 "metadata": {
  "kernelspec": {
   "display_name": "Python 3 (ipykernel)",
   "language": "python",
   "name": "python3"
  },
  "language_info": {
   "codemirror_mode": {
    "name": "ipython",
    "version": 3
   },
   "file_extension": ".py",
   "mimetype": "text/x-python",
   "name": "python",
   "nbconvert_exporter": "python",
   "pygments_lexer": "ipython3",
   "version": "3.10.4"
  }
 },
 "nbformat": 4,
 "nbformat_minor": 5
}
