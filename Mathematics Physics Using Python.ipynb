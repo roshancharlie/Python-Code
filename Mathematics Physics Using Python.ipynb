{
 "cells": [
  {
   "cell_type": "markdown",
   "id": "b6841216",
   "metadata": {},
   "source": [
    "### Integration of Equation numerically in a given Interval Using Function In Python"
   ]
  },
  {
   "cell_type": "code",
   "execution_count": 1,
   "id": "d8cdcd29",
   "metadata": {},
   "outputs": [
    {
     "name": "stdout",
     "output_type": "stream",
     "text": [
      "Value of Integral = 3.1395926542566923\n"
     ]
    }
   ],
   "source": [
    "def f(x): return (1/(x**2+1))\n",
    "a,b,n = -1000,1000,10000000\n",
    "h=(b-a)/n\n",
    "I=0.5*h*(f(a)+f(b)+2*sum([f(a+i*h) for i in range(1,n)]))\n",
    "print('Value of Integral =', I)"
   ]
  },
  {
   "cell_type": "markdown",
   "id": "3612e922",
   "metadata": {},
   "source": [
    "### Computing the N Times Root Of Unity Using Python"
   ]
  },
  {
   "cell_type": "code",
   "execution_count": 2,
   "id": "6f442316",
   "metadata": {},
   "outputs": [
    {
     "name": "stdout",
     "output_type": "stream",
     "text": [
      "(1+0j)\n",
      "(6.123233995736766e-17+1j)\n",
      "(-1+1.2246467991473532e-16j)\n",
      "(-1.8369701987210297e-16-1j)\n"
     ]
    }
   ],
   "source": [
    "import cmath\n",
    "\n",
    "def croot(k, n):\n",
    "    if n<=0:\n",
    "        return None\n",
    "    return cmath.exp((2 * cmath.pi * 1j * k) / n)\n",
    "\n",
    "n=4\n",
    "for k in range(n):\n",
    "    print (croot(k, n))"
   ]
  },
  {
   "cell_type": "markdown",
   "id": "22a19efe",
   "metadata": {},
   "source": [
    "### Finding the Two Square Roots For Complex Function"
   ]
  },
  {
   "cell_type": "code",
   "execution_count": 3,
   "id": "7ab4c7da",
   "metadata": {},
   "outputs": [
    {
     "name": "stdout",
     "output_type": "stream",
     "text": [
      "(3+2j)\n",
      "(1.8173540210239707+0.5502505227003375j)\n",
      "(3+2j)\n",
      "(5+12j)\n"
     ]
    }
   ],
   "source": [
    "import cmath\n",
    "\n",
    "z=complex(cmath.sqrt(5 + 12j))\n",
    "print (z)\n",
    "y=complex(cmath.sqrt(z))\n",
    "print(y)\n",
    "z1=complex(y*y)\n",
    "z2=complex(z1*z1)\n",
    "print(z1)\n",
    "print(z2)"
   ]
  },
  {
   "cell_type": "markdown",
   "id": "538ac764",
   "metadata": {},
   "source": [
    "### Calculation Of Least Square Fitting Of Data Through Python"
   ]
  },
  {
   "cell_type": "code",
   "execution_count": 4,
   "id": "11ef78ec",
   "metadata": {},
   "outputs": [
    {
     "data": {
      "image/png": "[encoded data removed]",
      "text/plain": [
       "<Figure size 432x288 with 1 Axes>"
      ]
     },
     "metadata": {
      "needs_background": "light"
     },
     "output_type": "display_data"
    }
   ],
   "source": [
    "import matplotlib.pyplot as plt\n",
    "import numpy as np\n",
    "from numpy.linalg import solve\n",
    "x=np.array([1,2,3,4,5])\n",
    "y=np.array([3.1, 5.9, 7.2, 10.0, 11.3])\n",
    "n=x.size\n",
    "sx=np.sum(x)\n",
    "sy=np.sum(y)\n",
    "sx2=np.sum(x*x)\n",
    "sxy=np.sum(x*y)\n",
    "A=np.array([[n,sx],[sx,sx2]])\n",
    "B=np.array([sy,sxy])\n",
    "C=solve(A,B)\n",
    "a0,a1=C\n",
    "yfit=a0+a1*x\n",
    "plt.plot(x,y,'o')\n",
    "plt.plot(x,yfit)\n",
    "plt.show()"
   ]
  },
  {
   "cell_type": "markdown",
   "id": "b5eeae77",
   "metadata": {},
   "source": [
    "### Evaluation Of Fourier Series Through Python Program"
   ]
  },
  {
   "cell_type": "code",
   "execution_count": 5,
   "id": "7e301755",
   "metadata": {},
   "outputs": [
    {
     "data": {
      "image/png": "[encoded data removed]",
      "text/plain": [
       "<Figure size 432x288 with 1 Axes>"
      ]
     },
     "metadata": {
      "needs_background": "light"
     },
     "output_type": "display_data"
    }
   ],
   "source": [
    "import numpy as np\n",
    "from scipy.signal import square\n",
    "from scipy.integrate import simps\n",
    "\n",
    "x=np.linspace(-np.pi,np.pi,1000)\n",
    "f=square(x)\n",
    "a0=1.0/np.pi*simps(f,x)\n",
    "an=lambda n: 1.0/np.pi*simps(f*np.cos(n*x),x)\n",
    "bn=lambda n: 1.0/np.pi*simps(f*np.sin(n*x),x)\n",
    "L=4\n",
    "xp=np.linspace(-L,L,1000)\n",
    "s=a0*0.5+sum([an(n)*np.cos(n*xp)+bn(n)*np.sin(n*xp) for n in range(1,20)])\n",
    "import matplotlib.pyplot as plt\n",
    "plt.plot(xp,s,xp,square(xp))\n",
    "plt.show()"
   ]
  },
  {
   "cell_type": "markdown",
   "id": "d89a70d3",
   "metadata": {},
   "source": [
    "### Application Of Fourier Transform"
   ]
  },
  {
   "cell_type": "code",
   "execution_count": 6,
   "id": "dfd00786",
   "metadata": {},
   "outputs": [
    {
     "data": {
      "text/plain": [
       "[0.0, 4.0, 0.0, 0.0, 0.0, 0.0, 0.0, 4.0]"
      ]
     },
     "execution_count": 6,
     "metadata": {},
     "output_type": "execute_result"
    }
   ],
   "source": [
    "import numpy as np\n",
    "t=np.arange(0,1,1/8)\n",
    "x=np.sin(2*np.pi*t)\n",
    "N=len(t)\n",
    "n=np.arange(N)\n",
    "ex=lambda k: np.exp(-1j*2*np.pi*k*n/N)\n",
    "X=[np.round(abs(sum(x*ex(k))),2) for k in range (N)]\n",
    "X"
   ]
  },
  {
   "cell_type": "markdown",
   "id": "bd7187f8",
   "metadata": {},
   "source": [
    "### Application Of Dirac Delta Function"
   ]
  },
  {
   "cell_type": "code",
   "execution_count": 7,
   "id": "407c242a",
   "metadata": {},
   "outputs": [
    {
     "data": {
      "text/plain": [
       "4.999997133499447"
      ]
     },
     "execution_count": 7,
     "metadata": {},
     "output_type": "execute_result"
    },
    {
     "data": {
      "image/png": "[encoded data removed]",
      "text/plain": [
       "<Figure size 432x288 with 1 Axes>"
      ]
     },
     "metadata": {
      "needs_background": "light"
     },
     "output_type": "display_data"
    }
   ],
   "source": [
    "import matplotlib.pyplot as plt\n",
    "import numpy as np\n",
    "from scipy.integrate import simps\n",
    "g=lambda x: x+3\n",
    "mu, sig = 2, 0.001\n",
    "f = lambda x: 1/(sig*np.sqrt(2*np.pi))*np.exp(-(x-mu)**2/(2*sig**2))\n",
    "x=np.linspace(mu-5*sig, mu+5*sig,1000)\n",
    "plt.plot(x,f(x))\n",
    "plt.show\n",
    "simps(f(x)*g(x),x)"
   ]
  },
  {
   "cell_type": "code",
   "execution_count": null,
   "id": "dddc6b94",
   "metadata": {},
   "outputs": [],
   "source": []
  }
 ],
 "metadata": {
  "kernelspec": {
   "display_name": "Python 3 (ipykernel)",
   "language": "python",
   "name": "python3"
  },
  "language_info": {
   "codemirror_mode": {
    "name": "ipython",
    "version": 3
   },
   "file_extension": ".py",
   "mimetype": "text/x-python",
   "name": "python",
   "nbconvert_exporter": "python",
   "pygments_lexer": "ipython3",
   "version": "3.10.4"
  }
 },
 "nbformat": 4,
 "nbformat_minor": 5
}
