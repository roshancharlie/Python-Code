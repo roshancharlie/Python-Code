{
 "cells": [
  {
   "cell_type": "markdown",
   "id": "aaaf4d5b",
   "metadata": {},
   "source": [
    "# \"Solving the Schrödinger Equation for the Hydrogen Atom: A Shooting Method Approach\""
   ]
  },
  {
   "cell_type": "markdown",
   "id": "df45383e",
   "metadata": {},
   "source": [
    "**This code is solving the Schrödinger equation for the radial part of the wave function of a hydrogen atom. The Schrödinger equation is a differential equation that describes the behavior of a quantum mechanical system, such as the hydrogen atom. The solution of this equation gives the probability distribution of the system, which is represented by the wave function.**"
   ]
  },
  {
   "cell_type": "code",
   "execution_count": 1,
   "id": "6aaeade1",
   "metadata": {},
   "outputs": [],
   "source": [
    "import numpy as np\n",
    "from scipy.integrate import odeint, simps\n",
    "from scipy.optimize import newton, bisect\n",
    "from matplotlib import pyplot as plt"
   ]
  },
  {
   "cell_type": "markdown",
   "id": "5505c1cf",
   "metadata": {},
   "source": [
    "The first step in the code is to define a function \"f\", which represents the differential equation for the radial part of the wave function of a hydrogen atom. The function takes in the variables w, r, E, and l, where w is the wave function, r is the radial coordinate, E is the energy, and l is the angular momentum quantum number. The function returns the first and second derivatives of the wave function, which are used in the numerical integration."
   ]
  },
  {
   "cell_type": "code",
   "execution_count": 2,
   "id": "407e839f",
   "metadata": {},
   "outputs": [],
   "source": [
    "def f(w,r,E,l):\n",
    "    u,v = w\n",
    "    f1,f2=v,(l*(l+1)/r**2-2/r-E)*u\n",
    "    return [f1,f2]"
   ]
  },
  {
   "cell_type": "markdown",
   "id": "57cf2377",
   "metadata": {},
   "source": [
    "The next step is to define a range of values for the radial coordinate (r) using the linspace function from numpy. The range is from a very small value to 20, with 1000 points. The range is then reversed using the [::-1] slice notation to ensure that the integration starts from a large distance and goes towards the origin. This is important because the wave function is defined as zero at infinity, so it is important to start the integration from a large distance to ensure that the wave function is zero at the beginning of the integration.\n",
    "\n",
    "The angular momentum quantum number (l) is set to 0, which corresponds to the s-state of the hydrogen atom. An initial guess for the wave function (w) is defined as [0.0, -0.001]. A range of initial guesses for the energy (energies) is defined as -1.2/np.arange(1,20,0.2)^2, which corresponds to a range of energy values in decreasing order. The energy eigenvalues are the values that correspond to the stationary states of the system, which do not change over time."
   ]
  },
  {
   "cell_type": "code",
   "execution_count": 3,
   "id": "834ad200",
   "metadata": {},
   "outputs": [],
   "source": [
    "r=np.linspace(1e-10,20,1000)\n",
    "rr=r[::-1]\n",
    "energies=-1.2/np.arange(1,20,0.2)**2\n",
    "n=energies.size\n",
    "l=0\n",
    "w=[0.0, -0.001]"
   ]
  },
  {
   "cell_type": "markdown",
   "id": "f1e96b21",
   "metadata": {},
   "source": [
    "A function \"shoot\" is defined, which takes in a single variable E (the energy) and uses the odeint function to integrate the differential equation for the wave function using the defined range of r values, an initial guess for the wave function, and the input energy E. The function returns the value of the wave function at the origin (r=0). This is used as a boundary condition for the wave function, as the wave function is defined as zero at the origin."
   ]
  },
  {
   "cell_type": "code",
   "execution_count": 4,
   "id": "7756e6b4",
   "metadata": {},
   "outputs": [],
   "source": [
    "def shoot(E):\n",
    "    sol = odeint(f,w,rr,args=(E,l))\n",
    "    return sol[:,0][-1]"
   ]
  },
  {
   "cell_type": "markdown",
   "id": "6aef5d24",
   "metadata": {},
   "source": [
    "The bisect function from scipy is then used to find the energy eigenvalues. The bisect function takes in a function and two values, and finds the value that makes the function equal to zero (in this case, the energy that makes the wave function at the origin equal to zero). The bisect function is used to find the energy eigenvalues by iterating through the range of initial guesses for the energy and calling the \"shoot\" function for each energy value. If the \"shoot\" function returns a positive value for one energy and a negative value for the next energy, the bisect function is used to find the energy that makes the \"shoot\" function equal to zero (the energy eigenvalue). The found energy eigenvalues are printed out."
   ]
  },
  {
   "cell_type": "code",
   "execution_count": 5,
   "id": "c7aaf5be",
   "metadata": {},
   "outputs": [
    {
     "name": "stdout",
     "output_type": "stream",
     "text": [
      "Energy eigenvales\n",
      "-1.0000000157385025\n",
      "-0.24997379570895875\n",
      "-0.09983340405801794\n"
     ]
    }
   ],
   "source": [
    "u0=shoot(energies[0])\n",
    "print('Energy eigenvales')\n",
    "En0=0\n",
    "for i in range (1,n):\n",
    "    u1=shoot(energies[i])\n",
    "    if u1*u0<0:\n",
    "        En=bisect(shoot, energies[i-1], energies[i])\n",
    "        u0=u1\n",
    "        if En0 !=En: print (En, end = '\\n')\n",
    "        En0=En"
   ]
  },
  {
   "cell_type": "markdown",
   "id": "597f53a8",
   "metadata": {},
   "source": [
    "The last step is to calculate the wave function using the energy eigenvalue that is found using bisect function. The odeint function is used to solve the Schrödinger equation using the found energy and the range of r values. The wave function is then extracted from the solution, normalized, and squared. The squared wave function is plotted using matplotlib. This plot represents the probability density of the wave function."
   ]
  },
  {
   "cell_type": "code",
   "execution_count": 6,
   "id": "7247a1dd",
   "metadata": {},
   "outputs": [
    {
     "data": {
      "image/png": "[encoded data removed]",
      "text/plain": [
       "<Figure size 432x288 with 1 Axes>"
      ]
     },
     "metadata": {
      "needs_background": "light"
     },
     "output_type": "display_data"
    }
   ],
   "source": [
    "En=-0.24997379553154978\n",
    "sol=odeint(f,w,rr,args=(En,l))\n",
    "psi=sol[:,0][::-1]\n",
    "norm=simps(psi**2,r)\n",
    "psi*=1./np.sqrt(norm)\n",
    "plt.plot(r,psi*psi)\n",
    "plt.show()"
   ]
  },
  {
   "cell_type": "code",
   "execution_count": null,
   "id": "5b350780",
   "metadata": {},
   "outputs": [],
   "source": []
  }
 ],
 "metadata": {
  "kernelspec": {
   "display_name": "Python 3 (ipykernel)",
   "language": "python",
   "name": "python3"
  },
  "language_info": {
   "codemirror_mode": {
    "name": "ipython",
    "version": 3
   },
   "file_extension": ".py",
   "mimetype": "text/x-python",
   "name": "python",
   "nbconvert_exporter": "python",
   "pygments_lexer": "ipython3",
   "version": "3.10.4"
  }
 },
 "nbformat": 4,
 "nbformat_minor": 5
}
